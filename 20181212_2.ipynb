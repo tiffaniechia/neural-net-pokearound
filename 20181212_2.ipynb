{
 "cells": [
  {
   "cell_type": "code",
   "execution_count": 16,
   "metadata": {},
   "outputs": [
    {
     "name": "stdout",
     "output_type": "stream",
     "text": [
      "(60000, 28, 28, 1)\n"
     ]
    }
   ],
   "source": [
    "from keras.datasets import fashion_mnist\n",
    "from keras.utils import to_categorical\n",
    "import numpy as np\n",
    "\n",
    "(x_train, y_train), (x_test, y_test) = fashion_mnist.load_data()\n",
    "x_train = np.reshape(x_train, (-1,28,28,1)).astype(\"float32\") /255.0\n",
    "x_test = np.reshape(x_test, (-1,28,28,1)).astype(\"float32\") /255.0\n",
    "\n",
    "y_train = to_categorical(y_train)\n",
    "y_test = to_categorical(y_test)\n",
    "print(x_train.shape)"
   ]
  },
  {
   "cell_type": "code",
   "execution_count": 23,
   "metadata": {},
   "outputs": [
    {
     "name": "stdout",
     "output_type": "stream",
     "text": [
      "[[0. 0. 0. ... 0. 0. 1.]\n",
      " [1. 0. 0. ... 0. 0. 0.]\n",
      " [1. 0. 0. ... 0. 0. 0.]\n",
      " ...\n",
      " [0. 0. 0. ... 0. 0. 0.]\n",
      " [1. 0. 0. ... 0. 0. 0.]\n",
      " [0. 0. 0. ... 0. 0. 0.]]\n"
     ]
    }
   ],
   "source": [
    "print(y_train)"
   ]
  },
  {
   "cell_type": "code",
   "execution_count": 25,
   "metadata": {},
   "outputs": [
    {
     "data": {
      "text/plain": [
       "<matplotlib.image.AxesImage at 0x12be51dd8>"
      ]
     },
     "execution_count": 25,
     "metadata": {},
     "output_type": "execute_result"
    },
    {
     "data": {
      "image/png": "[encoded data removed]",
      "text/plain": [
       "<Figure size 432x288 with 1 Axes>"
      ]
     },
     "metadata": {
      "needs_background": "light"
     },
     "output_type": "display_data"
    }
   ],
   "source": [
    "%matplotlib inline\n",
    "import matplotlib.pyplot as plt\n",
    "(x1_train, y1_train), (x1_test, y1_test) = fashion_mnist.load_data()\n",
    "index=0\n",
    "plt.imshow(x1_train[index])\n",
    "plt.title(\"Label: {}\".format(train1_labels[index]))"
   ]
  },
  {
   "cell_type": "code",
   "execution_count": null,
   "metadata": {},
   "outputs": [],
   "source": [
    "from keras import models,layers"
   ]
  },
  {
   "cell_type": "code",
   "execution_count": 12,
   "metadata": {},
   "outputs": [
    {
     "name": "stdout",
     "output_type": "stream",
     "text": [
      "_________________________________________________________________\n",
      "Layer (type)                 Output Shape              Param #   \n",
      "=================================================================\n",
      "conv2d_12 (Conv2D)           (None, 26, 26, 32)        320       \n",
      "_________________________________________________________________\n",
      "max_pooling2d_9 (MaxPooling2 (None, 13, 13, 32)        0         \n",
      "_________________________________________________________________\n",
      "conv2d_13 (Conv2D)           (None, 11, 11, 64)        18496     \n",
      "_________________________________________________________________\n",
      "max_pooling2d_10 (MaxPooling (None, 5, 5, 64)          0         \n",
      "_________________________________________________________________\n",
      "conv2d_14 (Conv2D)           (None, 3, 3, 64)          36928     \n",
      "_________________________________________________________________\n",
      "flatten_3 (Flatten)          (None, 576)               0         \n",
      "_________________________________________________________________\n",
      "dense_1 (Dense)              (None, 64)                36928     \n",
      "_________________________________________________________________\n",
      "dense_2 (Dense)              (None, 10)                650       \n",
      "=================================================================\n",
      "Total params: 93,322\n",
      "Trainable params: 93,322\n",
      "Non-trainable params: 0\n",
      "_________________________________________________________________\n"
     ]
    }
   ],
   "source": [
    "'''\n",
    "(28,28,1) grayscale\n",
    "(28,28,3) rgb\n",
    "\n",
    "conv2d goes a little but down in space but up in semantics (n-2, n-2, 32) \n",
    "n-2 because it is a sliding window so its a border effect\n",
    "\n",
    "flatten is latent space. it is the mathematical representation of the semantics of your data\n",
    "\n",
    "max takes the max of the 2 by 2 window. no overlap. that is why this is downsampling\n",
    "\n",
    "dense does the classification\n",
    "'''\n",
    "\n",
    "model = models.Sequential()\n",
    "model.add(layers.Conv2D(32,\n",
    "                       (3,3),\n",
    "                       activation=\"relu\", \n",
    "                       input_shape=(28,28,1)\n",
    "))\n",
    "\n",
    "model.add(layers.MaxPooling2D((2,2)))\n",
    "model.add(layers.Conv2D(64,\n",
    "                       (3,3),\n",
    "                       activation=\"relu\"\n",
    "))\n",
    "model.add(layers.MaxPooling2D((2,2)))\n",
    "model.add(layers.Conv2D(64,\n",
    "                       (3,3),\n",
    "                       activation=\"relu\"\n",
    "))\n",
    "model.add(layers.Flatten())\n",
    "model.add(layers.Dense(64,activation=\"relu\"))\n",
    "model.add(layers.Dense(10,activation=\"softmax\"))\n",
    "model.summary()"
   ]
  },
  {
   "cell_type": "code",
   "execution_count": 13,
   "metadata": {},
   "outputs": [],
   "source": [
    "model.compile(\n",
    "    optimizer=\"rmsprop\",\n",
    "    loss=\"categorical_crossentropy\",\n",
    "    metrics=[\"accuracy\"]\n",
    ")"
   ]
  },
  {
   "cell_type": "code",
   "execution_count": 33,
   "metadata": {},
   "outputs": [
    {
     "name": "stdout",
     "output_type": "stream",
     "text": [
      "Epoch 1/9\n",
      "60000/60000 [==============================] - 24s 402us/step - loss: 0.1508 - acc: 0.9451\n",
      "Epoch 2/9\n",
      "60000/60000 [==============================] - 24s 397us/step - loss: 0.1438 - acc: 0.9471\n",
      "Epoch 3/9\n",
      "60000/60000 [==============================] - 25s 418us/step - loss: 0.1347 - acc: 0.9507\n",
      "Epoch 4/9\n",
      "60000/60000 [==============================] - 27s 447us/step - loss: 0.1294 - acc: 0.9537\n",
      "Epoch 5/9\n",
      "60000/60000 [==============================] - 25s 416us/step - loss: 0.1225 - acc: 0.9544\n",
      "Epoch 6/9\n",
      "60000/60000 [==============================] - 25s 411us/step - loss: 0.1215 - acc: 0.9558\n",
      "Epoch 7/9\n",
      "60000/60000 [==============================] - 25s 409us/step - loss: 0.1140 - acc: 0.9584\n",
      "Epoch 8/9\n",
      "60000/60000 [==============================] - 25s 412us/step - loss: 0.1124 - acc: 0.9600\n",
      "Epoch 9/9\n",
      "60000/60000 [==============================] - 25s 410us/step - loss: 0.1080 - acc: 0.9620\n"
     ]
    }
   ],
   "source": [
    "history = model.fit(\n",
    "    x_train,y_train,\n",
    "    epochs=9,\n",
    "    batch_size=64\n",
    ")"
   ]
  },
  {
   "cell_type": "code",
   "execution_count": 18,
   "metadata": {},
   "outputs": [
    {
     "name": "stdout",
     "output_type": "stream",
     "text": [
      "10000/10000 [==============================] - 1s 139us/step\n"
     ]
    }
   ],
   "source": [
    "loss,acc = model.evaluate(x_test, y_test)"
   ]
  },
  {
   "cell_type": "code",
   "execution_count": 28,
   "metadata": {},
   "outputs": [
    {
     "name": "stdout",
     "output_type": "stream",
     "text": [
      "0.26981394889354704 0.9019\n"
     ]
    }
   ],
   "source": [
    "print(loss,acc)"
   ]
  },
  {
   "cell_type": "code",
   "execution_count": 34,
   "metadata": {},
   "outputs": [
    {
     "data": {
      "image/png": "[encoded data removed]",
      "text/plain": [
       "<Figure size 432x288 with 1 Axes>"
      ]
     },
     "metadata": {
      "needs_background": "light"
     },
     "output_type": "display_data"
    },
    {
     "data": {
      "image/png": "[encoded data removed]",
      "text/plain": [
       "<Figure size 432x288 with 1 Axes>"
      ]
     },
     "metadata": {
      "needs_background": "light"
     },
     "output_type": "display_data"
    }
   ],
   "source": [
    "%matplotlib inline\n",
    "import matplotlib.pyplot as plt\n",
    "\n",
    "plt.plot(history.history[\"loss\"], label=\"loss\")\n",
    "plt.legend()\n",
    "plt.show()\n",
    "plt.close()\n",
    "\n",
    "plt.plot(history.history[\"acc\"], label=\"acc\")\n",
    "plt.legend()\n",
    "plt.show()\n",
    "plt.close()"
   ]
  },
  {
   "cell_type": "code",
   "execution_count": 45,
   "metadata": {},
   "outputs": [
    {
     "data": {
      "text/plain": [
       "[<matplotlib.lines.Line2D at 0x12bdbe780>]"
      ]
     },
     "execution_count": 45,
     "metadata": {},
     "output_type": "execute_result"
    },
    {
     "data": {
      "image/png": "[encoded data removed]",
      "text/plain": [
       "<Figure size 432x288 with 1 Axes>"
      ]
     },
     "metadata": {
      "needs_background": "light"
     },
     "output_type": "display_data"
    }
   ],
   "source": [
    "prediction = model.predict(x_test[0:1])[0]\n",
    "plt.plot(prediction)"
   ]
  },
  {
   "cell_type": "code",
   "execution_count": 35,
   "metadata": {},
   "outputs": [],
   "source": [
    "labels=[\"T-shirt/top\",\n",
    "\"Trouser\",\n",
    "\"Pullover\",\n",
    "\"Dress\",\n",
    "\"Coat\",\n",
    "\"Sandal\",\n",
    "\"Shirt\",\n",
    "\"Sneaker\",\n",
    "\"Bag\",\n",
    "\"Ankle boot\"]"
   ]
  },
  {
   "cell_type": "code",
   "execution_count": 46,
   "metadata": {},
   "outputs": [
    {
     "data": {
      "text/plain": [
       "Text(0.5, 1.0, 'Label: Ankle boot')"
      ]
     },
     "execution_count": 46,
     "metadata": {},
     "output_type": "execute_result"
    },
    {
     "data": {
      "image/png": "[encoded data removed]",
      "text/plain": [
       "<Figure size 432x288 with 1 Axes>"
      ]
     },
     "metadata": {
      "needs_background": "light"
     },
     "output_type": "display_data"
    }
   ],
   "source": [
    "%matplotlib inline\n",
    "import matplotlib.pyplot as plt\n",
    "(x1_train, y1_train), (x1_test, y1_test) = fashion_mnist.load_data()\n",
    "index=122\n",
    "plt.imshow(x1_test[index])\n",
    "plt.title(\"Label: {}\".format(labels[y1_test[index]]))"
   ]
  },
  {
   "cell_type": "code",
   "execution_count": null,
   "metadata": {},
   "outputs": [],
   "source": []
  }
 ],
 "metadata": {
  "kernelspec": {
   "display_name": "Python 3",
   "language": "python",
   "name": "python3"
  },
  "language_info": {
   "codemirror_mode": {
    "name": "ipython",
    "version": 3
   },
   "file_extension": ".py",
   "mimetype": "text/x-python",
   "name": "python",
   "nbconvert_exporter": "python",
   "pygments_lexer": "ipython3",
   "version": "3.6.5"
  }
 },
 "nbformat": 4,
 "nbformat_minor": 2
}
